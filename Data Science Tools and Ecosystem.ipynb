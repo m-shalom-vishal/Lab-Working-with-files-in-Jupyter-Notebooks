{
 "cells": [
  {
   "cell_type": "markdown",
   "id": "fa0c65d2-d21a-41d3-b16b-626a9149fa39",
   "metadata": {},
   "source": [
    "Author\n",
    "M Shalom Vishal"
   ]
  },
  {
   "cell_type": "markdown",
   "id": "c2b53bd3-7d68-4603-9240-3a7455c45e2f",
   "metadata": {},
   "source": []
  },
  {
   "cell_type": "code",
   "execution_count": null,
   "id": "fe7c3486-84ab-4f9f-a8bb-0b7ba7c6f64d",
   "metadata": {},
   "outputs": [],
   "source": []
  }
 ],
 "metadata": {
  "kernelspec": {
   "display_name": "Python 3 (ipykernel)",
   "language": "python",
   "name": "python3"
  },
  "language_info": {
   "codemirror_mode": {
    "name": "ipython",
    "version": 3
   },
   "file_extension": ".py",
   "mimetype": "text/x-python",
   "name": "python",
   "nbconvert_exporter": "python",
   "pygments_lexer": "ipython3",
   "version": "3.12.6"
  }
 },
 "nbformat": 4,
 "nbformat_minor": 5
}
